{
 "cells": [
  {
   "cell_type": "code",
   "execution_count": 7,
   "metadata": {},
   "outputs": [
    {
     "name": "stdout",
     "output_type": "stream",
     "text": [
      "{'Subscriptions': [{'SubscriptionArn': 'arn:aws:sns:us-east-1:123456789012:ShoppingEvents:96b191ac-4979-4649-b952-481857282eb4', 'Owner': '', 'Protocol': 'sqs', 'Endpoint': 'http://sqs:9324/queue/test_queue1', 'TopicArn': 'arn:aws:sns:us-east-1:123456789012:ShoppingEvents'}, {'SubscriptionArn': 'arn:aws:sns:us-east-1:123456789012:cc104:6721cc2b-188d-4298-ac0d-bb5114e3e4df', 'Owner': '', 'Protocol': 'sqs', 'Endpoint': 'http://sqs:9324/queue/test_queue2', 'TopicArn': 'arn:aws:sns:us-east-1:123456789012:cc104'}, {'SubscriptionArn': 'arn:aws:sns:us-east-1:123456789012:cc104_test:830ce6fc-706e-4c93-943c-918aa76ede6e', 'Owner': '', 'Protocol': 'sqs', 'Endpoint': 'http://cc104.sqs.local:9324/queue/cc104test', 'TopicArn': 'arn:aws:sns:us-east-1:123456789012:cc104_test'}, {'SubscriptionArn': 'arn:aws:sns:us-east-1:123456789012:cc104_test:ecde2fbc-e9a3-45fc-9876-1a90d12a26a8', 'Owner': '', 'Protocol': 'sqs', 'Endpoint': 'http://sqs:9324/queue/cc104test', 'TopicArn': 'arn:aws:sns:us-east-1:123456789012:cc104_test'}, {'SubscriptionArn': 'arn:aws:sns:us-east-1:123456789012:cc104_test:8759e637-f1c8-4a90-b3c4-e94a31d3390e', 'Owner': '', 'Protocol': 'sqs', 'Endpoint': 'aws-sqs://cc104test?amazonSQSEndpoint=http://cc104.sqs.local:9324&accessKey=&secretKey=', 'TopicArn': 'arn:aws:sns:us-east-1:123456789012:cc104_test'}, {'SubscriptionArn': 'arn:aws:sns:us-east-1:123456789012:cc104_test:33eb802c-6c81-4545-b3d7-cd23579e0730', 'Owner': '', 'Protocol': 'sqs', 'Endpoint': 'aws-sqs://test?amazonSQSEndpoint=http://cc104.sqs.local:9324&accessKey=&secretKey=', 'TopicArn': 'arn:aws:sns:us-east-1:123456789012:cc104_test'}, {'SubscriptionArn': 'arn:aws:sns:us-east-1:123456789012:cc104_test:b6479d1e-7c73-4189-8441-71ea886faee0', 'Owner': '', 'Protocol': 'sqs', 'Endpoint': 'aws-sqs://test33?amazonSQSEndpoint=http://cc104.sqs.local:9324&accessKey=&secretKey=', 'TopicArn': 'arn:aws:sns:us-east-1:123456789012:cc104_test'}], 'ResponseMetadata': {'RequestId': '0f8fc647-07bb-4348-bab4-f4bcb81d0c25', 'HTTPStatusCode': 200, 'HTTPHeaders': {'server': 'akka-http/10.0.10', 'date': 'Wed, 16 Jan 2019 11:11:46 GMT', 'content-type': 'text/xml; charset=UTF-8', 'content-length': '2517'}, 'RetryAttempts': 0}}\n"
     ]
    }
   ],
   "source": [
    "print(sns.list_subscriptions())"
   ]
  },
  {
   "cell_type": "code",
   "execution_count": 2,
   "metadata": {},
   "outputs": [
    {
     "data": {
      "text/plain": [
       "{'Topics': [{'TopicArn': 'arn:aws:sns:us-east-1:123456789012:test1'},\n",
       "  {'TopicArn': 'arn:aws:sns:us-east-1:123456789012:ShoppingEvents'},\n",
       "  {'TopicArn': 'arn:aws:sns:us-east-1:123456789012:cc104'},\n",
       "  {'TopicArn': 'arn:aws:sns:us-east-1:123456789012:cc104_test'}],\n",
       " 'ResponseMetadata': {'RequestId': '8b705ebc-438b-4b13-9bee-87c428c827e2',\n",
       "  'HTTPStatusCode': 200,\n",
       "  'HTTPHeaders': {'server': 'akka-http/10.0.10',\n",
       "   'date': 'Wed, 16 Jan 2019 11:10:37 GMT',\n",
       "   'content-type': 'text/xml; charset=UTF-8',\n",
       "   'content-length': '566'},\n",
       "  'RetryAttempts': 0}}"
      ]
     },
     "execution_count": 2,
     "metadata": {},
     "output_type": "execute_result"
    }
   ],
   "source": [
    "sns.list_topics()"
   ]
  },
  {
   "cell_type": "code",
   "execution_count": 1,
   "metadata": {},
   "outputs": [],
   "source": [
    "import boto3\n",
    "sns = boto3.client('sns', \n",
    "endpoint_url='http://cc104.sns.local:9911',   \n",
    "    region_name='dummy_region',\n",
    "    aws_access_key_id='dummy_access_key',         \n",
    "    aws_secret_access_key='dummy_secret_key',     \n",
    "    verify=False)  "
   ]
  },
  {
   "cell_type": "code",
   "execution_count": 26,
   "metadata": {},
   "outputs": [],
   "source": [
    "create_sns = sns.create_topic(\n",
    "    Name='cc104_test',\n",
    "    Attributes={\n",
    "        'Key': 'labs'\n",
    "    }\n",
    ")"
   ]
  },
  {
   "cell_type": "code",
   "execution_count": 15,
   "metadata": {},
   "outputs": [
    {
     "ename": "NameError",
     "evalue": "name 'create_sns' is not defined",
     "output_type": "error",
     "traceback": [
      "\u001b[0;31m---------------------------------------------------------------------------\u001b[0m",
      "\u001b[0;31mNameError\u001b[0m                                 Traceback (most recent call last)",
      "\u001b[0;32m<ipython-input-15-d15465c19d44>\u001b[0m in \u001b[0;36m<module>\u001b[0;34m\u001b[0m\n\u001b[0;32m----> 1\u001b[0;31m \u001b[0mprint\u001b[0m\u001b[0;34m(\u001b[0m\u001b[0mcreate_sns\u001b[0m\u001b[0;34m)\u001b[0m\u001b[0;34m\u001b[0m\u001b[0;34m\u001b[0m\u001b[0m\n\u001b[0m",
      "\u001b[0;31mNameError\u001b[0m: name 'create_sns' is not defined"
     ]
    }
   ],
   "source": [
    "print(create_sns)"
   ]
  },
  {
   "cell_type": "code",
   "execution_count": 25,
   "metadata": {},
   "outputs": [
    {
     "name": "stdout",
     "output_type": "stream",
     "text": [
      "{'SubscriptionArn': 'arn:aws:sns:us-east-1:123456789012:cc104_test:830ce6fc-706e-4c93-943c-918aa76ede6e', 'ResponseMetadata': {'RequestId': '839547fd-009c-498d-8fd4-2b45787cfefd', 'HTTPStatusCode': 200, 'HTTPHeaders': {'server': 'akka-http/10.0.10', 'date': 'Wed, 16 Jan 2019 10:46:41 GMT', 'content-type': 'text/xml; charset=UTF-8', 'content-length': '336'}, 'RetryAttempts': 0}}\n"
     ]
    }
   ],
   "source": [
    "response = sns.subscribe(\n",
    "    TopicArn='arn:aws:sns:us-east-1:123456789012:cc104_test',\n",
    "    Protocol='sqs',\n",
    "    Endpoint='http://cc104.sqs.local:9324/queue/cc104test',\n",
    "    Attributes={'string':'event_type'},\n",
    "    ReturnSubscriptionArn=True\n",
    ")\n",
    "print(response)"
   ]
  },
  {
   "cell_type": "code",
   "execution_count": 14,
   "metadata": {},
   "outputs": [
    {
     "data": {
      "text/plain": [
       "{'MessageId': 'f20fd329-4505-4b58-bfac-6264885ebc25',\n",
       " 'ResponseMetadata': {'RequestId': '5b3c6d4a-0863-471c-b105-b66952b2f7db',\n",
       "  'HTTPStatusCode': 200,\n",
       "  'HTTPHeaders': {'server': 'akka-http/10.0.10',\n",
       "   'date': 'Wed, 16 Jan 2019 11:13:17 GMT',\n",
       "   'content-type': 'text/xml; charset=UTF-8',\n",
       "   'content-length': '270'},\n",
       "  'RetryAttempts': 0}}"
      ]
     },
     "execution_count": 14,
     "metadata": {},
     "output_type": "execute_result"
    }
   ],
   "source": [
    "sns.publish(\n",
    "    TopicArn ='arn:aws:sns:us-east-1:123456789012:cc104_test',\n",
    "    Subject = 'sns_test',\n",
    "    Message =\"Hero or Zero , bind hong ?! \",\n",
    "    MessageAttributes = {\n",
    "        'event_type': {\n",
    "            'DataType': 'String',\n",
    "            'StringValue': 'product_page_visited'\n",
    "        }\n",
    "    }\n",
    ")"
   ]
  },
  {
   "cell_type": "code",
   "execution_count": 9,
   "metadata": {},
   "outputs": [],
   "source": [
    "import boto3\n",
    "sqs = boto3.resource('sqs', \n",
    "endpoint_url='http://cc104.sqs.local:9324',   \n",
    "    region_name='dummy_region',\n",
    "    aws_access_key_id='dummy_access_key',         \n",
    "    aws_secret_access_key='dummy_secret_key',     \n",
    "    verify=False) "
   ]
  },
  {
   "cell_type": "code",
   "execution_count": 10,
   "metadata": {},
   "outputs": [],
   "source": [
    "# Get the queue 名稱為 test# Get the queue 名稱為 test\n",
    "queue = sqs.get_queue_by_name(QueueName='cc104test')"
   ]
  },
  {
   "cell_type": "code",
   "execution_count": 28,
   "metadata": {},
   "outputs": [],
   "source": [
    "for d in queue.receive_messages():\n",
    "    print(d.body)"
   ]
  },
  {
   "cell_type": "code",
   "execution_count": 15,
   "metadata": {},
   "outputs": [
    {
     "name": "stdout",
     "output_type": "stream",
     "text": [
      "Hero or Zero , bind hong ?! \n",
      "print comolete\n"
     ]
    }
   ],
   "source": [
    "import json\n",
    "for d in queue.receive_messages():\n",
    "    bing = json.loads(d.body)\n",
    "    print(bing['Message'])\n",
    "    d.delete()\n",
    "print(\"print comolete\")"
   ]
  },
  {
   "cell_type": "code",
   "execution_count": 3,
   "metadata": {},
   "outputs": [],
   "source": [
    "import boto3\n",
    "sqs_client = boto3.client('sqs', \n",
    "endpoint_url='http://cc104.sqs.local:9324',   \n",
    "    region_name='dummy_region',\n",
    "    aws_access_key_id='dummy_access_key',         \n",
    "    aws_secret_access_key='dummy_secret_key',     \n",
    "    verify=False) "
   ]
  },
  {
   "cell_type": "code",
   "execution_count": 12,
   "metadata": {},
   "outputs": [
    {
     "name": "stdout",
     "output_type": "stream",
     "text": [
      "http://sqs:9324/queue/cc104test\n"
     ]
    }
   ],
   "source": [
    "#創建一個queue，Queue名為test，屬性(延遲時間為5秒)\n",
    "queue = sqs.create_queue(QueueName='cc104test', Attributes={'DelaySeconds': '5'})\n",
    "# You can now access identifiers and attributes\n",
    "print(queue.url)"
   ]
  },
  {
   "cell_type": "code",
   "execution_count": 6,
   "metadata": {},
   "outputs": [
    {
     "data": {
      "text/plain": [
       "{'QueueUrls': ['http://sqs:9324/queue/queue1',\n",
       "  'http://sqs:9324/queue/test33',\n",
       "  'http://sqs:9324/queue/cc104test',\n",
       "  'http://sqs:9324/queue/test'],\n",
       " 'ResponseMetadata': {'RequestId': '00000000-0000-0000-0000-000000000000',\n",
       "  'HTTPStatusCode': 200,\n",
       "  'HTTPHeaders': {'server': 'akka-http/10.1.3',\n",
       "   'date': 'Wed, 16 Jan 2019 11:11:14 GMT',\n",
       "   'content-type': 'text/plain; charset=UTF-8',\n",
       "   'content-length': '543'},\n",
       "  'RetryAttempts': 0}}"
      ]
     },
     "execution_count": 6,
     "metadata": {},
     "output_type": "execute_result"
    }
   ],
   "source": [
    "sqs_client.list_queues()"
   ]
  },
  {
   "cell_type": "code",
   "execution_count": null,
   "metadata": {},
   "outputs": [],
   "source": []
  }
 ],
 "metadata": {
  "kernelspec": {
   "display_name": "Python 3",
   "language": "python",
   "name": "python3"
  },
  "language_info": {
   "codemirror_mode": {
    "name": "ipython",
    "version": 3
   },
   "file_extension": ".py",
   "mimetype": "text/x-python",
   "name": "python",
   "nbconvert_exporter": "python",
   "pygments_lexer": "ipython3",
   "version": "3.7.1"
  }
 },
 "nbformat": 4,
 "nbformat_minor": 2
}
